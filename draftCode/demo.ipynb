{
 "cells": [
  {
   "cell_type": "code",
   "execution_count": 2,
   "id": "86d9053d-2a6c-4b50-96f3-ccaf5a97cae1",
   "metadata": {},
   "outputs": [],
   "source": [
    "import pandas as pd\n",
    "from sklearn.cluster import KMeans\n",
    "from sklearn.preprocessing import LabelEncoder\n",
    "from sklearn.metrics.pairwise import cosine_similarity\n",
    "from sklearn.feature_extraction.text import TfidfVectorizer\n",
    "from sklearn.preprocessing import StandardScaler\n",
    "import tensorflow as tf\n",
    "from tensorflow.keras.layers import LeakyReLU\n",
    "import numpy as np\n",
    "import nltk\n",
    "from nltk.corpus import stopwords\n",
    "import joblib\n",
    "from sklearn.preprocessing import StandardScaler\n",
    "from sklearn.decomposition import PCA\n",
    "from sklearn.model_selection import train_test_split\n",
    "from tensorflow.keras.callbacks import EarlyStopping\n",
    "from tensorflow.keras.optimizers import Adam\n",
    "from tensorflow.keras.layers import Dense, Dropout, LeakyReLU\n",
    "from tensorflow.keras.losses import Huber\n",
    "from tensorflow.keras.regularizers import l2\n",
    "import matplotlib.pyplot as plt\n",
    "import seaborn as sns"
   ]
  },
  {
   "cell_type": "code",
   "execution_count": 6,
   "id": "cd20a168-df95-4c4d-b0ff-57d5ca8a4ab6",
   "metadata": {},
   "outputs": [
    {
     "data": {
      "text/html": [
       "<div>\n",
       "<style scoped>\n",
       "    .dataframe tbody tr th:only-of-type {\n",
       "        vertical-align: middle;\n",
       "    }\n",
       "\n",
       "    .dataframe tbody tr th {\n",
       "        vertical-align: top;\n",
       "    }\n",
       "\n",
       "    .dataframe thead th {\n",
       "        text-align: right;\n",
       "    }\n",
       "</style>\n",
       "<table border=\"1\" class=\"dataframe\">\n",
       "  <thead>\n",
       "    <tr style=\"text-align: right;\">\n",
       "      <th></th>\n",
       "      <th>Learning Path ID</th>\n",
       "      <th>Learning Path</th>\n",
       "      <th>Learning Path Summary</th>\n",
       "      <th>Course ID</th>\n",
       "      <th>Course Name_x</th>\n",
       "      <th>Course Summary</th>\n",
       "      <th>Price</th>\n",
       "      <th>Level</th>\n",
       "      <th>Total Jam Belajar</th>\n",
       "      <th>Rating</th>\n",
       "      <th>Jumlah Enrollment</th>\n",
       "      <th>Jumlah Modul/Tutorial</th>\n",
       "      <th>Judul Modul/Tutorial</th>\n",
       "    </tr>\n",
       "  </thead>\n",
       "  <tbody>\n",
       "    <tr>\n",
       "      <th>0</th>\n",
       "      <td>7</td>\n",
       "      <td>Android Developer</td>\n",
       "      <td>Kurikulum didesain dengan persetujuan dari Tim...</td>\n",
       "      <td>80</td>\n",
       "      <td>Memulai Pemrograman dengan Kotlin</td>\n",
       "      <td>Pelajari dasar bahasa pemrograman, functional ...</td>\n",
       "      <td>Berbayar</td>\n",
       "      <td>Dasar</td>\n",
       "      <td>50</td>\n",
       "      <td>4.84</td>\n",
       "      <td>67917</td>\n",
       "      <td>132</td>\n",
       "      <td>Latihan Ujian</td>\n",
       "    </tr>\n",
       "    <tr>\n",
       "      <th>1</th>\n",
       "      <td>7</td>\n",
       "      <td>Android Developer</td>\n",
       "      <td>Kurikulum didesain dengan persetujuan dari Tim...</td>\n",
       "      <td>80</td>\n",
       "      <td>Memulai Pemrograman dengan Kotlin</td>\n",
       "      <td>Pelajari dasar bahasa pemrograman, functional ...</td>\n",
       "      <td>Berbayar</td>\n",
       "      <td>Dasar</td>\n",
       "      <td>50</td>\n",
       "      <td>4.84</td>\n",
       "      <td>67917</td>\n",
       "      <td>132</td>\n",
       "      <td>Pengenalan Kotlin</td>\n",
       "    </tr>\n",
       "    <tr>\n",
       "      <th>2</th>\n",
       "      <td>7</td>\n",
       "      <td>Android Developer</td>\n",
       "      <td>Kurikulum didesain dengan persetujuan dari Tim...</td>\n",
       "      <td>80</td>\n",
       "      <td>Memulai Pemrograman dengan Kotlin</td>\n",
       "      <td>Pelajari dasar bahasa pemrograman, functional ...</td>\n",
       "      <td>Berbayar</td>\n",
       "      <td>Dasar</td>\n",
       "      <td>50</td>\n",
       "      <td>4.84</td>\n",
       "      <td>67917</td>\n",
       "      <td>132</td>\n",
       "      <td>Kotlin Sebagai Bahasa Multiparadigm</td>\n",
       "    </tr>\n",
       "    <tr>\n",
       "      <th>3</th>\n",
       "      <td>7</td>\n",
       "      <td>Android Developer</td>\n",
       "      <td>Kurikulum didesain dengan persetujuan dari Tim...</td>\n",
       "      <td>80</td>\n",
       "      <td>Memulai Pemrograman dengan Kotlin</td>\n",
       "      <td>Pelajari dasar bahasa pemrograman, functional ...</td>\n",
       "      <td>Berbayar</td>\n",
       "      <td>Dasar</td>\n",
       "      <td>50</td>\n",
       "      <td>4.84</td>\n",
       "      <td>67917</td>\n",
       "      <td>132</td>\n",
       "      <td>Kotlin Sebagai Bahasa Multiplatform</td>\n",
       "    </tr>\n",
       "    <tr>\n",
       "      <th>4</th>\n",
       "      <td>7</td>\n",
       "      <td>Android Developer</td>\n",
       "      <td>Kurikulum didesain dengan persetujuan dari Tim...</td>\n",
       "      <td>80</td>\n",
       "      <td>Memulai Pemrograman dengan Kotlin</td>\n",
       "      <td>Pelajari dasar bahasa pemrograman, functional ...</td>\n",
       "      <td>Berbayar</td>\n",
       "      <td>Dasar</td>\n",
       "      <td>50</td>\n",
       "      <td>4.84</td>\n",
       "      <td>67917</td>\n",
       "      <td>132</td>\n",
       "      <td>Kotlin untuk Aplikasi Server-side</td>\n",
       "    </tr>\n",
       "  </tbody>\n",
       "</table>\n",
       "</div>"
      ],
      "text/plain": [
       "  Learning Path ID      Learning Path  \\\n",
       "0                7  Android Developer   \n",
       "1                7  Android Developer   \n",
       "2                7  Android Developer   \n",
       "3                7  Android Developer   \n",
       "4                7  Android Developer   \n",
       "\n",
       "                               Learning Path Summary  Course ID  \\\n",
       "0  Kurikulum didesain dengan persetujuan dari Tim...         80   \n",
       "1  Kurikulum didesain dengan persetujuan dari Tim...         80   \n",
       "2  Kurikulum didesain dengan persetujuan dari Tim...         80   \n",
       "3  Kurikulum didesain dengan persetujuan dari Tim...         80   \n",
       "4  Kurikulum didesain dengan persetujuan dari Tim...         80   \n",
       "\n",
       "                       Course Name_x  \\\n",
       "0  Memulai Pemrograman dengan Kotlin   \n",
       "1  Memulai Pemrograman dengan Kotlin   \n",
       "2  Memulai Pemrograman dengan Kotlin   \n",
       "3  Memulai Pemrograman dengan Kotlin   \n",
       "4  Memulai Pemrograman dengan Kotlin   \n",
       "\n",
       "                                      Course Summary     Price  Level  \\\n",
       "0  Pelajari dasar bahasa pemrograman, functional ...  Berbayar  Dasar   \n",
       "1  Pelajari dasar bahasa pemrograman, functional ...  Berbayar  Dasar   \n",
       "2  Pelajari dasar bahasa pemrograman, functional ...  Berbayar  Dasar   \n",
       "3  Pelajari dasar bahasa pemrograman, functional ...  Berbayar  Dasar   \n",
       "4  Pelajari dasar bahasa pemrograman, functional ...  Berbayar  Dasar   \n",
       "\n",
       "   Total Jam Belajar  Rating  Jumlah Enrollment  Jumlah Modul/Tutorial  \\\n",
       "0                 50    4.84              67917                    132   \n",
       "1                 50    4.84              67917                    132   \n",
       "2                 50    4.84              67917                    132   \n",
       "3                 50    4.84              67917                    132   \n",
       "4                 50    4.84              67917                    132   \n",
       "\n",
       "                  Judul Modul/Tutorial  \n",
       "0                        Latihan Ujian  \n",
       "1                    Pengenalan Kotlin  \n",
       "2  Kotlin Sebagai Bahasa Multiparadigm  \n",
       "3  Kotlin Sebagai Bahasa Multiplatform  \n",
       "4    Kotlin untuk Aplikasi Server-side  "
      ]
     },
     "execution_count": 6,
     "metadata": {},
     "output_type": "execute_result"
    }
   ],
   "source": [
    "data = pd.read_csv(\"data/updatemergedata.csv\")\n",
    "data.head()"
   ]
  },
  {
   "cell_type": "code",
   "execution_count": 7,
   "id": "9387a01f-d826-46b0-b59e-6164860b3605",
   "metadata": {},
   "outputs": [],
   "source": [
    "label_encoder = LabelEncoder()\n",
    "data['Level'] = label_encoder.fit_transform(data['Level']) \n",
    "data['Price'] = data['Price'].map({'Berbayar': 1, 'Gratis': 0})"
   ]
  },
  {
   "cell_type": "code",
   "execution_count": 8,
   "id": "f6d6e6d0-9ae4-4fa2-a0c2-20aee6ffcdca",
   "metadata": {},
   "outputs": [
    {
     "name": "stderr",
     "output_type": "stream",
     "text": [
      "C:\\Users\\Rico Mesias\\OneDrive\\Documents\\VsCode\\DicodingCompany\\venv\\lib\\site-packages\\sklearn\\feature_extraction\\text.py:406: UserWarning: Your stop_words may be inconsistent with your preprocessing. Tokenizing the stop words generated tokens ['baiknya', 'berkali', 'kali', 'kurangnya', 'mata', 'olah', 'sekurang', 'setidak', 'tama', 'tidaknya'] not in stop_words.\n",
      "  warnings.warn(\n"
     ]
    }
   ],
   "source": [
    "# 1. Stopwords dan TF-IDF dari teks\n",
    "indonesian_stopwords = stopwords.words('indonesian')\n",
    "data['Combined Summary'] = data['Learning Path'] + ' ' + data['Learning Path Summary'] + ' ' + data['Course Name_x'] + ' ' + data['Course Summary']\n",
    "tfidf = TfidfVectorizer(stop_words=indonesian_stopwords)\n",
    "tfidf_matrix = tfidf.fit_transform(data['Combined Summary']).toarray()  # Ubah ke array agar bisa digunakan\n"
   ]
  },
  {
   "cell_type": "code",
   "execution_count": 9,
   "id": "039ed50e-6d4c-442e-a96d-bb9dfa42f26f",
   "metadata": {},
   "outputs": [],
   "source": [
    "# 2. Scaling data\n",
    "scaler = StandardScaler()\n",
    "X_scaled = scaler.fit_transform(tfidf_matrix)"
   ]
  },
  {
   "cell_type": "code",
   "execution_count": 10,
   "id": "43ef71f1-dc3b-472c-9608-33ae5b950b2d",
   "metadata": {},
   "outputs": [
    {
     "name": "stdout",
     "output_type": "stream",
     "text": [
      "Epoch 1/50\n",
      "\u001b[1m76/76\u001b[0m \u001b[32m━━━━━━━━━━━━━━━━━━━━\u001b[0m\u001b[37m\u001b[0m \u001b[1m2s\u001b[0m 4ms/step - loss: 3.4442 - val_loss: 1.1405\n",
      "Epoch 2/50\n",
      "\u001b[1m76/76\u001b[0m \u001b[32m━━━━━━━━━━━━━━━━━━━━\u001b[0m\u001b[37m\u001b[0m \u001b[1m0s\u001b[0m 2ms/step - loss: 0.8031 - val_loss: 0.4336\n",
      "Epoch 3/50\n",
      "\u001b[1m76/76\u001b[0m \u001b[32m━━━━━━━━━━━━━━━━━━━━\u001b[0m\u001b[37m\u001b[0m \u001b[1m0s\u001b[0m 3ms/step - loss: 0.3074 - val_loss: 0.2722\n",
      "Epoch 4/50\n",
      "\u001b[1m76/76\u001b[0m \u001b[32m━━━━━━━━━━━━━━━━━━━━\u001b[0m\u001b[37m\u001b[0m \u001b[1m0s\u001b[0m 3ms/step - loss: 0.1939 - val_loss: 0.2351\n",
      "Epoch 5/50\n",
      "\u001b[1m76/76\u001b[0m \u001b[32m━━━━━━━━━━━━━━━━━━━━\u001b[0m\u001b[37m\u001b[0m \u001b[1m0s\u001b[0m 2ms/step - loss: 0.1659 - val_loss: 0.2260\n",
      "Epoch 6/50\n",
      "\u001b[1m76/76\u001b[0m \u001b[32m━━━━━━━━━━━━━━━━━━━━\u001b[0m\u001b[37m\u001b[0m \u001b[1m0s\u001b[0m 2ms/step - loss: 0.1605 - val_loss: 0.2242\n",
      "Epoch 7/50\n",
      "\u001b[1m76/76\u001b[0m \u001b[32m━━━━━━━━━━━━━━━━━━━━\u001b[0m\u001b[37m\u001b[0m \u001b[1m0s\u001b[0m 2ms/step - loss: 0.1581 - val_loss: 0.2233\n",
      "Epoch 8/50\n",
      "\u001b[1m76/76\u001b[0m \u001b[32m━━━━━━━━━━━━━━━━━━━━\u001b[0m\u001b[37m\u001b[0m \u001b[1m0s\u001b[0m 2ms/step - loss: 0.1588 - val_loss: 0.2231\n",
      "Epoch 9/50\n",
      "\u001b[1m76/76\u001b[0m \u001b[32m━━━━━━━━━━━━━━━━━━━━\u001b[0m\u001b[37m\u001b[0m \u001b[1m0s\u001b[0m 2ms/step - loss: 0.1569 - val_loss: 0.2226\n",
      "Epoch 10/50\n",
      "\u001b[1m76/76\u001b[0m \u001b[32m━━━━━━━━━━━━━━━━━━━━\u001b[0m\u001b[37m\u001b[0m \u001b[1m0s\u001b[0m 3ms/step - loss: 0.1579 - val_loss: 0.2228\n",
      "Epoch 11/50\n",
      "\u001b[1m76/76\u001b[0m \u001b[32m━━━━━━━━━━━━━━━━━━━━\u001b[0m\u001b[37m\u001b[0m \u001b[1m0s\u001b[0m 3ms/step - loss: 0.1561 - val_loss: 0.2227\n",
      "Epoch 12/50\n",
      "\u001b[1m76/76\u001b[0m \u001b[32m━━━━━━━━━━━━━━━━━━━━\u001b[0m\u001b[37m\u001b[0m \u001b[1m0s\u001b[0m 3ms/step - loss: 0.1569 - val_loss: 0.2225\n",
      "Epoch 13/50\n",
      "\u001b[1m76/76\u001b[0m \u001b[32m━━━━━━━━━━━━━━━━━━━━\u001b[0m\u001b[37m\u001b[0m \u001b[1m0s\u001b[0m 2ms/step - loss: 0.1569 - val_loss: 0.2230\n",
      "Epoch 14/50\n",
      "\u001b[1m76/76\u001b[0m \u001b[32m━━━━━━━━━━━━━━━━━━━━\u001b[0m\u001b[37m\u001b[0m \u001b[1m0s\u001b[0m 3ms/step - loss: 0.1579 - val_loss: 0.2230\n",
      "Epoch 15/50\n",
      "\u001b[1m76/76\u001b[0m \u001b[32m━━━━━━━━━━━━━━━━━━━━\u001b[0m\u001b[37m\u001b[0m \u001b[1m0s\u001b[0m 4ms/step - loss: 0.1562 - val_loss: 0.2223\n",
      "Epoch 16/50\n",
      "\u001b[1m76/76\u001b[0m \u001b[32m━━━━━━━━━━━━━━━━━━━━\u001b[0m\u001b[37m\u001b[0m \u001b[1m0s\u001b[0m 3ms/step - loss: 0.1583 - val_loss: 0.2227\n",
      "Epoch 17/50\n",
      "\u001b[1m76/76\u001b[0m \u001b[32m━━━━━━━━━━━━━━━━━━━━\u001b[0m\u001b[37m\u001b[0m \u001b[1m0s\u001b[0m 2ms/step - loss: 0.1567 - val_loss: 0.2228\n",
      "Epoch 18/50\n",
      "\u001b[1m76/76\u001b[0m \u001b[32m━━━━━━━━━━━━━━━━━━━━\u001b[0m\u001b[37m\u001b[0m \u001b[1m0s\u001b[0m 3ms/step - loss: 0.1574 - val_loss: 0.2227\n"
     ]
    },
    {
     "name": "stderr",
     "output_type": "stream",
     "text": [
      "WARNING:absl:You are saving your model as an HDF5 file via `model.save()` or `keras.saving.save_model(model)`. This file format is considered legacy. We recommend using instead the native Keras format, e.g. `model.save('my_model.keras')` or `keras.saving.save_model(model, 'my_model.keras')`. \n"
     ]
    }
   ],
   "source": [
    "# 3. Membuat arsitektur Autoencoder\n",
    "input_dim = X_scaled.shape[1]\n",
    "input_layer = tf.keras.layers.Input(shape=(input_dim,))\n",
    "encoded = Dense(128, kernel_regularizer=l2(0.01))(input_layer)\n",
    "encoded = LeakyReLU(negative_slope=0.01)(encoded)\n",
    "encoded = Dropout(0.3)(encoded)\n",
    "encoded = Dense(64, kernel_regularizer=l2(0.01))(encoded)\n",
    "encoded = LeakyReLU(negative_slope=0.01)(encoded)\n",
    "encoded = Dropout(0.3)(encoded)\n",
    "encoded = Dense(32, kernel_regularizer=l2(0.01))(encoded)\n",
    "\n",
    "decoded = Dense(64, kernel_regularizer=l2(0.01))(encoded)\n",
    "decoded = LeakyReLU(negative_slope=0.01)(decoded)\n",
    "decoded = Dense(128, kernel_regularizer=l2(0.01))(decoded)\n",
    "decoded = LeakyReLU(negative_slope=0.01)(decoded)\n",
    "decoded = Dense(input_dim, activation='sigmoid')(decoded)\n",
    "\n",
    "autoencoder = tf.keras.models.Model(input_layer, decoded)\n",
    "\n",
    "# 4. Compile dan melatih model Autoencoder\n",
    "optimizer = Adam(learning_rate=0.001)\n",
    "autoencoder.compile(optimizer=optimizer, loss=Huber())\n",
    "\n",
    "early_stopping = EarlyStopping(monitor='val_loss', patience=3, restore_best_weights=True)\n",
    "\n",
    "history = autoencoder.fit(\n",
    "    X_scaled, X_scaled,\n",
    "    epochs=50,\n",
    "    batch_size=64,\n",
    "    shuffle=True,\n",
    "    validation_split=0.2,\n",
    "    callbacks=[early_stopping]\n",
    ")\n",
    "\n",
    "autoencoder.save(\"autoencoder_model.h5\")"
   ]
  },
  {
   "cell_type": "code",
   "execution_count": 11,
   "id": "ba4b23f2-bd47-4b21-ad4a-90a0d9ee40e6",
   "metadata": {},
   "outputs": [
    {
     "data": {
      "image/png": "[encoded data removed]",
      "text/plain": [
       "<Figure size 640x480 with 1 Axes>"
      ]
     },
     "metadata": {},
     "output_type": "display_data"
    }
   ],
   "source": [
    "plt.plot(history.history['loss'], label='Training Loss')\n",
    "plt.plot(history.history['val_loss'], label='Validation Loss')\n",
    "plt.title('Autoencoder Training and Validation Loss')\n",
    "plt.xlabel('Epochs')\n",
    "plt.ylabel('Loss')\n",
    "plt.legend()\n",
    "plt.show()"
   ]
  },
  {
   "cell_type": "code",
   "execution_count": 74,
   "id": "2e1a95c4-2fd8-4f4b-8778-49959696e823",
   "metadata": {},
   "outputs": [
    {
     "name": "stdout",
     "output_type": "stream",
     "text": [
      "\n",
      "Top 3 Recommended Learning Paths:\n",
      "                   Course Name_x\n",
      "1412  Belajar Dasar Data Science\n",
      "1413  Belajar Dasar Data Science\n",
      "1414  Belajar Dasar Data Science\n"
     ]
    },
    {
     "data": {
      "image/png": "[encoded data removed]",
      "text/plain": [
       "<Figure size 1000x800 with 1 Axes>"
      ]
     },
     "metadata": {},
     "output_type": "display_data"
    }
   ],
   "source": [
    "def preprocess_learning_paths(data):\n",
    "    # Gabungkan fitur menjadi satu kolom\n",
    "    data['combined_features'] = data.apply(lambda x: f\"{x['Learning Path']} {x['Learning Path Summary']} {x['Course Name_x']}\", axis=1)\n",
    "    return data\n",
    "\n",
    "def vectorize_learning_paths(data):\n",
    "    # Vectorisasi dengan Tfidf\n",
    "    vectorizer = TfidfVectorizer()\n",
    "    return vectorizer.fit_transform(data['combined_features'])\n",
    "\n",
    "def cluster_learning_paths(data, num_clusters=5):\n",
    "    # KMeans clustering\n",
    "    kmeans = KMeans(n_clusters=num_clusters, random_state=0)\n",
    "    clusters = kmeans.fit_predict(data)\n",
    "    return clusters\n",
    "\n",
    "def visualize_clusters(learning_paths_vectors, clusters):\n",
    "    # Visualisasi clustering menggunakan PCA\n",
    "    pca = PCA(n_components=2)\n",
    "    reduced_data = pca.fit_transform(learning_paths_vectors.toarray())\n",
    "    \n",
    "    # PCA results\n",
    "    pca_df = pd.DataFrame(reduced_data, columns=['PCA1', 'PCA2'])\n",
    "    pca_df['cluster'] = clusters\n",
    "    \n",
    "    plt.figure(figsize=(10, 8))\n",
    "    sns.scatterplot(data=pca_df, x='PCA1', y='PCA2', hue='cluster', palette='Set1', alpha=0.7)\n",
    "    plt.title('Clustering of Learning Paths')\n",
    "    plt.show()\n",
    "\n",
    "# Menyusun rekomendasi\n",
    "def recommend_learning_paths(data, user_preferences):\n",
    "    data = preprocess_learning_paths(data)\n",
    "    learning_paths_vectors = vectorize_learning_paths(data)\n",
    "    clusters = cluster_learning_paths(learning_paths_vectors)\n",
    "    data['cluster'] = clusters\n",
    "    \n",
    "    # Menghitung kemiripan\n",
    "    user_vector = \" \".join(user_preferences)\n",
    "    vectorizer = TfidfVectorizer()\n",
    "    all_vectors = vectorizer.fit_transform(data['combined_features'].tolist() + [user_vector])\n",
    "    user_vector_tfidf = all_vectors[-1]\n",
    "    learning_paths_vectors = all_vectors[:-1]\n",
    "    \n",
    "    similarity_scores = cosine_similarity(user_vector_tfidf, learning_paths_vectors)\n",
    "    data['similarity'] = similarity_scores.flatten()\n",
    "    \n",
    "    recommendations = data.sort_values(by='similarity', ascending=False).head(3)\n",
    "    \n",
    "    return recommendations, learning_paths_vectors, clusters\n",
    "\n",
    "# Contoh Penggunaan\n",
    "user_preferences = [\"Machine Learning\", \"Python\", \"Data Science\"]  # Misalnya\n",
    "recommendations, learning_paths_vectors, clusters = recommend_learning_paths(data, user_preferences)\n",
    "\n",
    "print(\"\\nTop 3 Recommended Learning Paths:\")\n",
    "print(recommendations[['Course Name_x']])\n",
    "\n",
    "# Visualisasi kluster\n",
    "visualize_clusters(learning_paths_vectors, clusters)"
   ]
  },
  {
   "cell_type": "code",
   "execution_count": 29,
   "id": "13aa104e-f922-4a86-a9d3-b8fd3db6ae6a",
   "metadata": {},
   "outputs": [
    {
     "name": "stderr",
     "output_type": "stream",
     "text": [
      "WARNING:absl:Compiled the loaded model, but the compiled metrics have yet to be built. `model.compile_metrics` will be empty until you train or evaluate the model.\n",
      "C:\\Users\\Rico Mesias\\OneDrive\\Documents\\VsCode\\DicodingCompany\\venv\\lib\\site-packages\\sklearn\\feature_extraction\\text.py:406: UserWarning: Your stop_words may be inconsistent with your preprocessing. Tokenizing the stop words generated tokens ['baiknya', 'berkali', 'kali', 'kurangnya', 'mata', 'olah', 'sekurang', 'setidak', 'tama', 'tidaknya'] not in stop_words.\n",
      "  warnings.warn(\n"
     ]
    },
    {
     "name": "stdout",
     "output_type": "stream",
     "text": [
      "\u001b[1m189/189\u001b[0m \u001b[32m━━━━━━━━━━━━━━━━━━━━\u001b[0m\u001b[37m\u001b[0m \u001b[1m0s\u001b[0m 2ms/step\n"
     ]
    },
    {
     "name": "stderr",
     "output_type": "stream",
     "text": [
      "C:\\Users\\Rico Mesias\\OneDrive\\Documents\\VsCode\\DicodingCompany\\venv\\lib\\site-packages\\sklearn\\base.py:1473: ConvergenceWarning: Number of distinct clusters (2) found smaller than n_clusters (5). Possibly due to duplicate points in X.\n",
      "  return fit_method(estimator, *args, **kwargs)\n"
     ]
    },
    {
     "data": {
      "text/plain": [
       "['kmeans_model.joblib']"
      ]
     },
     "execution_count": 29,
     "metadata": {},
     "output_type": "execute_result"
    }
   ],
   "source": [
    "from sklearn.cluster import KMeans\n",
    "import joblib\n",
    "import tensorflow as tf\n",
    "from tensorflow.keras.models import load_model\n",
    "from nltk.corpus import stopwords\n",
    "\n",
    "# Load preprocessed data and encoder model\n",
    "data = pd.read_csv(\"data/updatemergedata.csv\")\n",
    "encoder = load_model(\"autoencoder_model.h5\")\n",
    "data['Combined Summary'] = data['Learning Path'] + ' ' + data['Learning Path Summary'] + ' ' + data['Course Name_x'] + ' ' + data['Course Summary']\n",
    "\n",
    "# Create embeddings using the encoder\n",
    "indonesian_stopwords = stopwords.words('indonesian')\n",
    "tfidf = TfidfVectorizer(stop_words=stopwords.words('indonesian'))\n",
    "tfidf_matrix = tfidf.fit_transform(data['Combined Summary']).toarray()\n",
    "scaler = StandardScaler()\n",
    "X_scaled = scaler.fit_transform(tfidf_matrix)\n",
    "X_embeddings = encoder.predict(X_scaled)\n",
    "\n",
    "# Train KMeans on encoder embeddings\n",
    "kmeans = KMeans(n_clusters=5, random_state=42)\n",
    "data['cluster'] = kmeans.fit_predict(X_embeddings)\n",
    "\n",
    "# Save KMeans model\n",
    "joblib.dump(kmeans, 'kmeans_model.joblib')\n"
   ]
  },
  {
   "cell_type": "code",
   "execution_count": null,
   "id": "22979337-4f0d-405c-b313-3c064db2e8f2",
   "metadata": {},
   "outputs": [],
   "source": [
    "# 6. Menentukan jumlah cluster optimal dengan metode Elbow\n",
    "def optimal_kmeans_clusters(data):\n",
    "    distortions = []\n",
    "    K = range(1, 11)\n",
    "    for k in K:\n",
    "        kmeans = KMeans(n_clusters=k, random_state=0).fit(data)\n",
    "        distortions.append(kmeans.inertia_)\n",
    "    \n",
    "    plt.figure(figsize=(10, 6))\n",
    "    plt.plot(K, distortions, 'bx-')\n",
    "    plt.xlabel('Number of Clusters')\n",
    "    plt.ylabel('Distortion')\n",
    "    plt.title('Elbow Method For Optimal k')\n",
    "    plt.show()\n",
    "\n",
    "optimal_kmeans_clusters(encoded_data)"
   ]
  },
  {
   "cell_type": "code",
   "execution_count": 63,
   "id": "3a13eb80-d08b-4835-b90d-05bb6f2ab396",
   "metadata": {},
   "outputs": [
    {
     "name": "stderr",
     "output_type": "stream",
     "text": [
      "C:\\Users\\Rico Mesias\\OneDrive\\Documents\\VsCode\\DicodingCompany\\venv\\lib\\site-packages\\sklearn\\base.py:1473: ConvergenceWarning: Number of distinct clusters (1) found smaller than n_clusters (5). Possibly due to duplicate points in X.\n",
      "  return fit_method(estimator, *args, **kwargs)\n"
     ]
    },
    {
     "data": {
      "image/png": "[encoded data removed]",
      "text/plain": [
       "<Figure size 1200x800 with 1 Axes>"
      ]
     },
     "metadata": {},
     "output_type": "display_data"
    }
   ],
   "source": [
    "# 7. Clustering menggunakan KMeans\n",
    "num_clusters = 5  # Sesuaikan dengan hasil dari metode Elbow\n",
    "kmeans = KMeans(n_clusters=num_clusters, random_state=0)\n",
    "clusters = kmeans.fit_predict(encoded_data)\n",
    "data['Cluster'] = clusters\n",
    "\n",
    "# 8. Visualisasi hasil clustering menggunakan PCA\n",
    "pca = PCA(n_components=2)\n",
    "reduced_data = pca.fit_transform(encoded_data)\n",
    "\n",
    "plt.figure(figsize=(12, 8))\n",
    "sns.scatterplot(x=reduced_data[:, 0], y=reduced_data[:, 1], hue=clusters, palette='Set2', s=100, alpha=0.7)\n",
    "plt.title('Clustering Learning Paths with Autoencoder + PCA')\n",
    "plt.xlabel('PCA Component 1')\n",
    "plt.ylabel('PCA Component 2')\n",
    "plt.legend(title=\"Cluster\")\n",
    "plt.show()"
   ]
  },
  {
   "cell_type": "code",
   "execution_count": 64,
   "id": "928fe9ed-a33a-4cb8-a13a-e2bc7fefeaf6",
   "metadata": {},
   "outputs": [],
   "source": [
    "# 9. Menganalisis rekomendasi berbasis cluster terdekat\n",
    "def recommend_learning_paths(user_vector, cluster_data, num_recommendations=3):\n",
    "    # Menghitung kemiripan antara vektor user dengan data dalam cluster\n",
    "    similarity_scores = cosine_similarity(user_vector, cluster_data).flatten()\n",
    "    \n",
    "    # Mendapatkan rekomendasi dengan skor kemiripan tertinggi\n",
    "    top_indices = similarity_scores.argsort()[-num_recommendations:][::-1]\n",
    "    top_recommendations = data.iloc[top_indices]\n",
    "    \n",
    "    return top_recommendations[['ID', 'Nama Path', 'Bahasa Utama', 'Kategori', 'Tingkat']]\n"
   ]
  },
  {
   "cell_type": "code",
   "execution_count": 65,
   "id": "45b68502-6d02-4e31-ad21-1daadf513d5f",
   "metadata": {},
   "outputs": [
    {
     "ename": "NameError",
     "evalue": "name 'vectorizer' is not defined",
     "output_type": "error",
     "traceback": [
      "\u001b[1;31m---------------------------------------------------------------------------\u001b[0m",
      "\u001b[1;31mNameError\u001b[0m                                 Traceback (most recent call last)",
      "Cell \u001b[1;32mIn[65], line 2\u001b[0m\n\u001b[0;32m      1\u001b[0m \u001b[38;5;66;03m# 10. Contoh: Membuat vektor preferensi pengguna dan mendapatkan rekomendasi\u001b[39;00m\n\u001b[1;32m----> 2\u001b[0m user_preferences_vector \u001b[38;5;241m=\u001b[39m \u001b[43mvectorizer\u001b[49m\u001b[38;5;241m.\u001b[39mtransform([get_user_preferences_vector(user_preferences)])\n\u001b[0;32m      3\u001b[0m recommendations \u001b[38;5;241m=\u001b[39m recommend_learning_paths(user_preferences_vector, encoded_data)\n\u001b[0;32m      4\u001b[0m \u001b[38;5;28mprint\u001b[39m(\u001b[38;5;124m\"\u001b[39m\u001b[38;5;130;01m\\n\u001b[39;00m\u001b[38;5;124mTop 3 Recommended Learning Paths:\u001b[39m\u001b[38;5;130;01m\\n\u001b[39;00m\u001b[38;5;124m\"\u001b[39m, recommendations)\n",
      "\u001b[1;31mNameError\u001b[0m: name 'vectorizer' is not defined"
     ]
    }
   ],
   "source": [
    "# 10. Contoh: Membuat vektor preferensi pengguna dan mendapatkan rekomendasi\n",
    "user_preferences_vector = vectorizer.transform([get_user_preferences_vector(user_preferences)])\n",
    "recommendations = recommend_learning_paths(user_preferences_vector, encoded_data)\n",
    "print(\"\\nTop 3 Recommended Learning Paths:\\n\", recommendations)\n",
    "\n",
    "# 11. Evaluasi model Autoencoder (visualisasi loss)\n",
    "plt.plot(history.history['loss'], label='Training Loss')\n",
    "plt.plot(history.history['val_loss'], label='Validation Loss')\n",
    "plt.xlabel('Epochs')\n",
    "plt.ylabel('Loss')\n",
    "plt.title('Training and Validation Loss')\n",
    "plt.legend()\n",
    "plt.show()"
   ]
  },
  {
   "cell_type": "code",
   "execution_count": 30,
   "id": "d766ae38-36ba-4ad9-96ed-760dfe9613e8",
   "metadata": {},
   "outputs": [
    {
     "name": "stderr",
     "output_type": "stream",
     "text": [
      "C:\\Users\\Rico Mesias\\OneDrive\\Documents\\VsCode\\DicodingCompany\\venv\\lib\\site-packages\\sklearn\\feature_extraction\\text.py:406: UserWarning: Your stop_words may be inconsistent with your preprocessing. Tokenizing the stop words generated tokens ['baiknya', 'berkali', 'kali', 'kurangnya', 'mata', 'olah', 'sekurang', 'setidak', 'tama', 'tidaknya'] not in stop_words.\n",
      "  warnings.warn(\n"
     ]
    },
    {
     "ename": "AttributeError",
     "evalue": "module 'tensorflow._api.v2.compat.v1' has no attribute 'estimator'",
     "output_type": "error",
     "traceback": [
      "\u001b[1;31m---------------------------------------------------------------------------\u001b[0m",
      "\u001b[1;31mAttributeError\u001b[0m                            Traceback (most recent call last)",
      "Cell \u001b[1;32mIn[30], line 22\u001b[0m\n\u001b[0;32m     19\u001b[0m \u001b[38;5;66;03m# TensorFlow KMeans\u001b[39;00m\n\u001b[0;32m     20\u001b[0m num_clusters \u001b[38;5;241m=\u001b[39m \u001b[38;5;241m5\u001b[39m  \u001b[38;5;66;03m# Set the number of clusters sesuai kebutuhan\u001b[39;00m\n\u001b[1;32m---> 22\u001b[0m kmeans \u001b[38;5;241m=\u001b[39m \u001b[43mtf\u001b[49m\u001b[38;5;241;43m.\u001b[39;49m\u001b[43mcompat\u001b[49m\u001b[38;5;241;43m.\u001b[39;49m\u001b[43mv1\u001b[49m\u001b[38;5;241;43m.\u001b[39;49m\u001b[43mestimator\u001b[49m\u001b[38;5;241m.\u001b[39mexperimental\u001b[38;5;241m.\u001b[39mKMeans(\n\u001b[0;32m     23\u001b[0m     num_clusters\u001b[38;5;241m=\u001b[39mnum_clusters, use_mini_batch\u001b[38;5;241m=\u001b[39m\u001b[38;5;28;01mTrue\u001b[39;00m\n\u001b[0;32m     24\u001b[0m )\n\u001b[0;32m     26\u001b[0m \u001b[38;5;66;03m# Convert data to TensorFlow tensors\u001b[39;00m\n\u001b[0;32m     27\u001b[0m X_scaled_tf \u001b[38;5;241m=\u001b[39m tf\u001b[38;5;241m.\u001b[39mconvert_to_tensor(X_scaled, dtype\u001b[38;5;241m=\u001b[39mtf\u001b[38;5;241m.\u001b[39mfloat32)\n",
      "File \u001b[1;32m~\\OneDrive\\Documents\\VsCode\\DicodingCompany\\venv\\lib\\site-packages\\tensorflow\\python\\util\\module_wrapper.py:232\u001b[0m, in \u001b[0;36mTFModuleWrapper._getattr\u001b[1;34m(self, name)\u001b[0m\n\u001b[0;32m    220\u001b[0m \u001b[38;5;250m\u001b[39m\u001b[38;5;124;03m\"\"\"Imports and caches pre-defined API.\u001b[39;00m\n\u001b[0;32m    221\u001b[0m \n\u001b[0;32m    222\u001b[0m \u001b[38;5;124;03mWarns if necessary.\u001b[39;00m\n\u001b[1;32m   (...)\u001b[0m\n\u001b[0;32m    229\u001b[0m \u001b[38;5;124;03mfails.\u001b[39;00m\n\u001b[0;32m    230\u001b[0m \u001b[38;5;124;03m\"\"\"\u001b[39;00m\n\u001b[0;32m    231\u001b[0m \u001b[38;5;28;01mtry\u001b[39;00m:\n\u001b[1;32m--> 232\u001b[0m   attr \u001b[38;5;241m=\u001b[39m \u001b[38;5;28;43mgetattr\u001b[39;49m\u001b[43m(\u001b[49m\u001b[38;5;28;43mself\u001b[39;49m\u001b[38;5;241;43m.\u001b[39;49m\u001b[43m_tfmw_wrapped_module\u001b[49m\u001b[43m,\u001b[49m\u001b[43m \u001b[49m\u001b[43mname\u001b[49m\u001b[43m)\u001b[49m\n\u001b[0;32m    233\u001b[0m \u001b[38;5;28;01mexcept\u001b[39;00m \u001b[38;5;167;01mAttributeError\u001b[39;00m:\n\u001b[0;32m    234\u001b[0m \u001b[38;5;66;03m# Placeholder for Google-internal contrib error\u001b[39;00m\n\u001b[0;32m    236\u001b[0m   \u001b[38;5;28;01mif\u001b[39;00m \u001b[38;5;129;01mnot\u001b[39;00m \u001b[38;5;28mself\u001b[39m\u001b[38;5;241m.\u001b[39m_tfmw_public_apis:\n",
      "\u001b[1;31mAttributeError\u001b[0m: module 'tensorflow._api.v2.compat.v1' has no attribute 'estimator'"
     ]
    }
   ],
   "source": [
    "import tensorflow as tf\n",
    "from sklearn.feature_extraction.text import TfidfVectorizer\n",
    "from sklearn.preprocessing import StandardScaler\n",
    "import pandas as pd\n",
    "\n",
    "# Load data\n",
    "data = pd.read_csv(\"data/updatemergedata.csv\")\n",
    "\n",
    "# Preprocessing\n",
    "data['Combined Summary'] = data['Learning Path'] + ' ' + data['Learning Path Summary'] + ' ' + data['Course Name_x'] + ' ' + data['Course Summary']\n",
    "indonesian_stopwords = stopwords.words('Indonesian')\n",
    "tfidf = TfidfVectorizer(stop_words=stopwords.words('Indonesian'))\n",
    "tfidf_matrix = tfidf.fit_transform(data['Combined Summary']).toarray()\n",
    "\n",
    "# Scaling\n",
    "scaler = StandardScaler()\n",
    "X_scaled = scaler.fit_transform(tfidf_matrix)\n",
    "\n",
    "# TensorFlow KMeans\n",
    "num_clusters = 5  # Set the number of clusters sesuai kebutuhan\n",
    "\n",
    "kmeans = tf.compat.v1.estimator.experimental.KMeans(\n",
    "    num_clusters=num_clusters, use_mini_batch=True\n",
    ")\n",
    "\n",
    "# Convert data to TensorFlow tensors\n",
    "X_scaled_tf = tf.convert_to_tensor(X_scaled, dtype=tf.float32)\n",
    "\n",
    "# Training KMeans model\n",
    "def train_input_fn():\n",
    "    return tf.compat.v1.data.Dataset.from_tensor_slices((X_scaled_tf)).batch(64)\n",
    "\n",
    "kmeans.train(input_fn=train_input_fn, steps=1000)\n",
    "\n",
    "# Predict clusters\n",
    "def predict_input_fn():\n",
    "    return tf.compat.v1.data.Dataset.from_tensor_slices((X_scaled_tf)).batch(64)\n",
    "\n",
    "cluster_indices = list(kmeans.predict_cluster_index(input_fn=predict_input_fn))\n",
    "\n",
    "# Save model\n",
    "export_path = \"kmeans_model\"\n",
    "tf.saved_model.save(kmeans, export_path)\n",
    "\n",
    "# Add clusters to data\n",
    "data['cluster'] = cluster_indices\n",
    "\n",
    "# Visualisasi atau Analisis\n",
    "print(\"Cluster assignments:\", data['cluster'].value_counts())\n",
    "\n",
    "# Model rekomendasi\n",
    "def recommend_courses(user_preferences, num_recommendations=3):\n",
    "    # Preprocess input\n",
    "    user_vector = \" \".join(user_preferences)\n",
    "    user_tfidf = tfidf.transform([user_vector])\n",
    "    user_scaled = scaler.transform(user_tfidf.toarray())\n",
    "    \n",
    "    # Predict cluster\n",
    "    user_cluster = kmeans.predict_cluster_index(input_fn=lambda: tf.compat.v1.data.Dataset.from_tensors(user_scaled).batch(1))\n",
    "    \n",
    "    # Filter data by cluster and find the most similar courses\n",
    "    recommendations = data[data['cluster'] == user_cluster[0]].head(num_recommendations)\n",
    "    \n",
    "    return recommendations[['Course Name_x', 'Learning Path', 'Learning Path Summary']]\n",
    "\n",
    "# Contoh penggunaan\n",
    "user_preferences = [\"Machine Learning\", \"Python\", \"Data Science\"]\n",
    "recommendations = recommend_courses(user_preferences)\n",
    "\n",
    "print(\"\\nTop Recommendations:\")\n",
    "print(recommendations)\n"
   ]
  },
  {
   "cell_type": "code",
   "execution_count": null,
   "id": "ac8418d6-07a8-4456-abfc-533170be1979",
   "metadata": {},
   "outputs": [],
   "source": []
  }
 ],
 "metadata": {
  "kernelspec": {
   "display_name": "Python 3 (ipykernel)",
   "language": "python",
   "name": "python3"
  },
  "language_info": {
   "codemirror_mode": {
    "name": "ipython",
    "version": 3
   },
   "file_extension": ".py",
   "mimetype": "text/x-python",
   "name": "python",
   "nbconvert_exporter": "python",
   "pygments_lexer": "ipython3",
   "version": "3.10.0"
  }
 },
 "nbformat": 4,
 "nbformat_minor": 5
}
